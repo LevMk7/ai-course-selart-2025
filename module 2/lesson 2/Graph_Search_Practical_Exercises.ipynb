{
 "cells": [
  {
   "cell_type": "markdown",
   "id": "d7ac9058",
   "metadata": {},
   "source": [
    "\n",
    "# Module 2, Session 2 — Practical Exercises (BFS, DFS, Dijkstra)\n",
    "\n",
    "1. **Trace the Search (Conceptual)** — Determine expansion orders for BFS and DFS on a small graph  \n",
    "2. **Implement BFS** — Shortest path in an unweighted Armenia mini‑map  \n",
    "3. **Implement DFS** — Depth‑first path on the same map  \n",
    "4. **Dijkstra’s Algorithm** — Shortest weighted paths + explicit best route reconstruction\n"
   ]
  },
  {
   "cell_type": "markdown",
   "id": "7e5e9caf",
   "metadata": {},
   "source": [
    "\n",
    "## Exercise 1 — Trace the Search (Conceptual)\n",
    "\n",
    "**Graph** (neighbors expanded in alphabetical order):\n",
    "\n",
    "- S → A, B  \n",
    "- A → C, D  \n",
    "- B → E, F  \n",
    "- D → G\n",
    "\n",
    "**Goal:** List the order of *nodes expanded*:\n",
    "- **Breadth‑First Search (BFS)**\n",
    "- **Depth‑First Search (DFS)**\n",
    "\n",
    "**Key ideas**\n",
    "- **BFS** explores **level by level** using a **queue (FIFO)**  \n",
    "- **DFS** explores **as deep as possible** first using a **stack (LIFO)**\n"
   ]
  },
  {
   "cell_type": "code",
   "execution_count": 7,
   "id": "69e56ae6",
   "metadata": {},
   "outputs": [
    {
     "name": "stdout",
     "output_type": "stream",
     "text": [
      "BFS nodes expanded: ['S', 'A', 'B', 'C', 'D', 'E', 'F', 'G']\n",
      "DFS nodes expanded: ['S', 'A', 'C', 'D', 'G']\n"
     ]
    }
   ],
   "source": [
    "\n",
    "from collections import deque\n",
    "\n",
    "# Conceptual graph\n",
    "concept_graph = {\n",
    "    \"S\": [\"A\", \"B\"],\n",
    "    \"A\": [\"C\", \"D\"],\n",
    "    \"B\": [\"E\", \"F\"],\n",
    "    \"C\": [],\n",
    "    \"D\": [\"G\"],\n",
    "    \"E\": [],\n",
    "    \"F\": [],\n",
    "    \"G\": []\n",
    "}\n",
    "\n",
    "def bfs_expansion_order(graph, start, goal):\n",
    "    visited = set()\n",
    "    q = deque([start])\n",
    "    order = []\n",
    "    while q:\n",
    "        u = q.popleft()\n",
    "        if u in visited:\n",
    "            continue\n",
    "        visited.add(u)\n",
    "        order.append(u)\n",
    "        if u == goal:\n",
    "            break\n",
    "        for v in sorted(graph.get(u, [])):  # alphabetical expansion\n",
    "            if v not in visited:\n",
    "                q.append(v)\n",
    "    return order\n",
    "\n",
    "def dfs_expansion_order(graph, start, goal):\n",
    "    visited = set()\n",
    "    stack = [start]\n",
    "    order = []\n",
    "    while stack:\n",
    "        u = stack.pop()\n",
    "        if u in visited:\n",
    "            continue\n",
    "        visited.add(u)\n",
    "        order.append(u)\n",
    "        if u == goal:\n",
    "            break\n",
    "        # push neighbors in reverse alphabetical so alpha-first is popped next\n",
    "        for v in sorted(graph.get(u, []), reverse=True):\n",
    "            if v not in visited:\n",
    "                stack.append(v)\n",
    "    return order\n",
    "\n",
    "bfs_order = bfs_expansion_order(concept_graph, \"S\", \"G\")\n",
    "dfs_order = dfs_expansion_order(concept_graph, \"S\", \"G\")\n",
    "print(\"BFS nodes expanded:\", bfs_order)\n",
    "print(\"DFS nodes expanded:\", dfs_order)\n"
   ]
  },
  {
   "cell_type": "markdown",
   "id": "1745ca60",
   "metadata": {},
   "source": [
    "\n",
    "**Expected conceptual result**  \n",
    "- **BFS:** `S, A, B, C, D, E, F, G`  \n",
    "- **DFS:** `S, A, C, D, G`\n",
    "\n",
    "**Why this happens**\n",
    "- BFS processes `S` first, then all of `S`’s children (`A`, `B`), then their children, etc.  \n",
    "- DFS goes `S → A → C` (as deep as possible), backtracks, then `D → G`.\n"
   ]
  },
  {
   "cell_type": "markdown",
   "id": "a89ff187",
   "metadata": {},
   "source": [
    "\n",
    "## Exercise 2 — Implement Breadth‑First Search (BFS)\n",
    "\n",
    "We’ll use an **unweighted** Armenia mini‑map. BFS returns the **shortest path by number of edges**.\n",
    "\n",
    "**Graph (adjacency list):**\n",
    "\n",
    "```text\n",
    "Yerevan:  Gyumri, Sevan\n",
    "Gyumri:   Yerevan, Vanadzor\n",
    "Sevan:    Yerevan, Dilizhan\n",
    "Vanadzor: Gyumri, Dilizhan\n",
    "Dilizhan: Sevan, Vanadzor\n",
    "```\n",
    "\n",
    "**Approach**\n",
    "- Keep a `queue` of **paths** (lists of nodes).  \n",
    "- Pop from the left; if the last node is the goal, return the path.  \n",
    "- Otherwise, extend the path to each unvisited neighbor and push back to the queue.\n"
   ]
  },
  {
   "cell_type": "code",
   "execution_count": 8,
   "id": "ec78830c",
   "metadata": {},
   "outputs": [
    {
     "name": "stdout",
     "output_type": "stream",
     "text": [
      "BFS Yerevan → Dilizhan: ['Yerevan', 'Sevan', 'Dilizhan']\n"
     ]
    }
   ],
   "source": [
    "\n",
    "from collections import deque\n",
    "\n",
    "graph_unweighted = {\n",
    "    \"Yerevan\": [\"Gyumri\", \"Sevan\"],\n",
    "    \"Gyumri\": [\"Yerevan\", \"Vanadzor\"],\n",
    "    \"Sevan\": [\"Yerevan\", \"Dilizhan\"],\n",
    "    \"Vanadzor\": [\"Gyumri\", \"Dilizhan\"],\n",
    "    \"Dilizhan\": [\"Sevan\", \"Vanadzor\"]\n",
    "}\n",
    "\n",
    "def bfs_path(graph, start, goal):\n",
    "    if start == goal:\n",
    "        return [start]\n",
    "    visited = set([start])\n",
    "    q = deque([[start]])\n",
    "    while q:\n",
    "        path = q.popleft()\n",
    "        node = path[-1]\n",
    "        if node == goal:\n",
    "            return path\n",
    "        # alphabetical neighbor order for determinism\n",
    "        for nbr in sorted(graph.get(node, [])):\n",
    "            if nbr not in visited:\n",
    "                visited.add(nbr)\n",
    "                q.append(path + [nbr])\n",
    "    return None\n",
    "\n",
    "print(\"BFS Yerevan → Dilizhan:\", bfs_path(graph_unweighted, \"Yerevan\", \"Dilizhan\"))\n"
   ]
  },
  {
   "cell_type": "markdown",
   "id": "6d26417e",
   "metadata": {},
   "source": [
    "\n",
    "**Explanation**\n",
    "- BFS guarantees the fewest edges. With our map, a typical result is:  \n",
    "  `Yerevan → Sevan → Dilizhan`  \n",
    "- We store complete paths in the queue so that when we reach the goal, we can return the route immediately.\n"
   ]
  },
  {
   "cell_type": "markdown",
   "id": "30740e46",
   "metadata": {},
   "source": [
    "\n",
    "## Exercise 3 — Implement Depth‑First Search (DFS)\n",
    "\n",
    "DFS explores one branch as deep as possible before backtracking. It **does not** guarantee the fewest edges.\n",
    "\n",
    "**Key difference from BFS:** we use a **stack** instead of a queue.\n"
   ]
  },
  {
   "cell_type": "code",
   "execution_count": 9,
   "id": "861a9b94",
   "metadata": {},
   "outputs": [
    {
     "name": "stdout",
     "output_type": "stream",
     "text": [
      "DFS Yerevan → Dilizhan: ['Yerevan', 'Gyumri', 'Vanadzor', 'Dilizhan']\n"
     ]
    }
   ],
   "source": [
    "\n",
    "def dfs_path(graph, start, goal):\n",
    "    if start == goal:\n",
    "        return [start]\n",
    "    visited = set([start])\n",
    "    stack = [[start]]\n",
    "    while stack:\n",
    "        path = stack.pop()\n",
    "        node = path[-1]\n",
    "        if node == goal:\n",
    "            return path\n",
    "        # push neighbors in reverse alphabetical so alpha-first is popped next\n",
    "        for nbr in sorted(graph.get(node, []), reverse=True):\n",
    "            if nbr not in visited:\n",
    "                visited.add(nbr)\n",
    "                stack.append(path + [nbr])\n",
    "    return None\n",
    "\n",
    "print(\"DFS Yerevan → Dilizhan:\", dfs_path(graph_unweighted, \"Yerevan\", \"Dilizhan\"))\n"
   ]
  },
  {
   "cell_type": "markdown",
   "id": "ec548993",
   "metadata": {},
   "source": [
    "\n",
    "**Explanation**\n",
    "- DFS may return a longer path than BFS (e.g., `Yerevan → Gyumri → Vanadzor → Dilizhan`).  \n",
    "- The path depends on neighbor ordering and the order of pushes/pops on the stack.\n"
   ]
  },
  {
   "cell_type": "markdown",
   "id": "8cbc9902",
   "metadata": {},
   "source": [
    "\n",
    "## Exercise 4 — Dijkstra’s Algorithm (Weighted Shortest Paths)\n",
    "\n",
    "Now we’ll add **weights (kilometers)** to edges and compute the **shortest weighted paths** from a start node.\n",
    "\n",
    "**High‑level steps**\n",
    "1. Initialize distances `dist` to `∞` except `dist[start] = 0`  \n",
    "2. Repeatedly pick the **unvisited node with smallest `dist`**  \n",
    "3. **Relax** outgoing edges: if `dist[u] + w(u,v) < dist[v]`, update `dist[v]` and set `prev[v] = u`  \n",
    "4. After the loop, use `prev` to reconstruct the best path to any goal\n"
   ]
  },
  {
   "cell_type": "code",
   "execution_count": 10,
   "id": "e6d6ee3d",
   "metadata": {},
   "outputs": [
    {
     "name": "stdout",
     "output_type": "stream",
     "text": [
      "Dijkstra distances from Yerevan: {'Yerevan': 0, 'Gyumri': 120, 'Sevan': 70, 'Vanadzor': 145, 'Dilizhan': 105}\n",
      "Best weighted path Yerevan → Dilizhan: ['Yerevan', 'Sevan', 'Dilizhan']\n"
     ]
    }
   ],
   "source": [
    "\n",
    "import math\n",
    "\n",
    "graph_weighted = {\n",
    "    \"Yerevan\": {\"Gyumri\": 120, \"Sevan\": 70},\n",
    "    \"Gyumri\": {\"Yerevan\": 120, \"Vanadzor\": 60},\n",
    "    \"Sevan\": {\"Yerevan\": 70, \"Dilizhan\": 35},\n",
    "    \"Vanadzor\": {\"Gyumri\": 60, \"Dilizhan\": 40},\n",
    "    \"Dilizhan\": {\"Sevan\": 35, \"Vanadzor\": 40}\n",
    "}\n",
    "\n",
    "def dijkstra(graph, start):\n",
    "    nodes = list(graph.keys())\n",
    "    dist = {n: math.inf for n in nodes}\n",
    "    prev = {n: None for n in nodes}\n",
    "    visited = set()\n",
    "    dist[start] = 0\n",
    "\n",
    "    while len(visited) < len(nodes):\n",
    "        # pick unvisited node with smallest distance\n",
    "        u = None\n",
    "        best = math.inf\n",
    "        for n in nodes:\n",
    "            if n not in visited and dist[n] < best:\n",
    "                best = dist[n]\n",
    "                u = n\n",
    "        if u is None:\n",
    "            break\n",
    "        visited.add(u)\n",
    "\n",
    "        for v, w in graph.get(u, {}).items():\n",
    "            if v in visited:\n",
    "                continue\n",
    "            alt = dist[u] + w\n",
    "            if alt < dist[v]:\n",
    "                dist[v] = alt\n",
    "                prev[v] = u\n",
    "\n",
    "    return dist, prev\n",
    "\n",
    "def reconstruct_path(prev, start, goal):\n",
    "    path = []\n",
    "    cur = goal\n",
    "    while cur is not None:\n",
    "        path.append(cur)\n",
    "        if cur == start:\n",
    "            break\n",
    "        cur = prev[cur]\n",
    "    path.reverse()\n",
    "    return path if path and path[0] == start else None\n",
    "\n",
    "dist, prev = dijkstra(graph_weighted, \"Yerevan\")\n",
    "best_path = reconstruct_path(prev, \"Yerevan\", \"Dilizhan\")\n",
    "print(\"Dijkstra distances from Yerevan:\", dist)\n",
    "print(\"Best weighted path Yerevan → Dilizhan:\", best_path)\n"
   ]
  },
  {
   "cell_type": "markdown",
   "id": "13d8f99f",
   "metadata": {},
   "source": [
    "\n",
    "**Explanation**\n",
    "- `dist` stores the best known distance from the start to each node  \n",
    "- `prev` lets us reconstruct the route by backtracking from the goal  \n",
    "- With our example weights, the best route Yerevan → Dilizhan is through **Sevan**\n"
   ]
  }
 ],
 "metadata": {
  "kernelspec": {
   "display_name": "Python 3",
   "language": "python",
   "name": "python3"
  },
  "language_info": {
   "codemirror_mode": {
    "name": "ipython",
    "version": 3
   },
   "file_extension": ".py",
   "mimetype": "text/x-python",
   "name": "python",
   "nbconvert_exporter": "python",
   "pygments_lexer": "ipython3",
   "version": "3.12.8"
  }
 },
 "nbformat": 4,
 "nbformat_minor": 5
}
